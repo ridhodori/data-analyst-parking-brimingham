{
  "nbformat": 4,
  "nbformat_minor": 5,
  "metadata": {
    "kernelspec": {
      "display_name": "Python 3",
      "language": "python",
      "name": "python3"
    },
    "language_info": {
      "codemirror_mode": {
        "name": "ipython",
        "version": 3
      },
      "file_extension": ".py",
      "mimetype": "text/x-python",
      "name": "python",
      "nbconvert_exporter": "python",
      "pygments_lexer": "ipython3",
      "version": "3.8.8"
    },
    "colab": {
      "name": "ParkingBirminghamDataAnalysis.ipynb",
      "provenance": [],
      "include_colab_link": true
    }
  },
  "cells": [
    {
      "cell_type": "markdown",
      "metadata": {
        "id": "view-in-github",
        "colab_type": "text"
      },
      "source": [
        "<a href=\"https://colab.research.google.com/github/ridhodori/data-analyst-parking-brimingham/blob/main/ParkingBirminghamDataAnalysis.ipynb\" target=\"_parent\"><img src=\"https://colab.research.google.com/assets/colab-badge.svg\" alt=\"Open In Colab\"/></a>"
      ]
    },
    {
      "cell_type": "markdown",
      "metadata": {
        "id": "87144d7c"
      },
      "source": [
        "# Import Library"
      ],
      "id": "87144d7c"
    },
    {
      "cell_type": "code",
      "metadata": {
        "id": "3ec6f397"
      },
      "source": [
        "import numpy as np\n",
        "import pandas as pd\n",
        "import seaborn as sns\n",
        "import matplotlib.pyplot as plt\n",
        "import matplotlib.dates as mdates\n",
        "%matplotlib inline"
      ],
      "id": "3ec6f397",
      "execution_count": null,
      "outputs": []
    },
    {
      "cell_type": "markdown",
      "metadata": {
        "id": "1de4fa82"
      },
      "source": [
        "# Read Dataset"
      ],
      "id": "1de4fa82"
    },
    {
      "cell_type": "code",
      "metadata": {
        "colab": {
          "base_uri": "https://localhost:8080/",
          "height": 419
        },
        "id": "95a1b2ec",
        "outputId": "12894034-7950-48ce-d62d-e79f1ac50947"
      },
      "source": [
        "data = pd.read_csv('https://github.com/hilaler/Data-Set-Analysis-Parking-Birmingham-Data-Set/blob/main/dataset.csv?raw=true')\n",
        "data"
      ],
      "id": "95a1b2ec",
      "execution_count": null,
      "outputs": [
        {
          "output_type": "execute_result",
          "data": {
            "text/html": [
              "<div>\n",
              "<style scoped>\n",
              "    .dataframe tbody tr th:only-of-type {\n",
              "        vertical-align: middle;\n",
              "    }\n",
              "\n",
              "    .dataframe tbody tr th {\n",
              "        vertical-align: top;\n",
              "    }\n",
              "\n",
              "    .dataframe thead th {\n",
              "        text-align: right;\n",
              "    }\n",
              "</style>\n",
              "<table border=\"1\" class=\"dataframe\">\n",
              "  <thead>\n",
              "    <tr style=\"text-align: right;\">\n",
              "      <th></th>\n",
              "      <th>SystemCodeNumber</th>\n",
              "      <th>Capacity</th>\n",
              "      <th>Occupancy</th>\n",
              "      <th>LastUpdated</th>\n",
              "    </tr>\n",
              "  </thead>\n",
              "  <tbody>\n",
              "    <tr>\n",
              "      <th>0</th>\n",
              "      <td>BHMBCCMKT01</td>\n",
              "      <td>577</td>\n",
              "      <td>61</td>\n",
              "      <td>10/4/2016 7:59</td>\n",
              "    </tr>\n",
              "    <tr>\n",
              "      <th>1</th>\n",
              "      <td>BHMBCCMKT01</td>\n",
              "      <td>577</td>\n",
              "      <td>64</td>\n",
              "      <td>10/4/2016 8:25</td>\n",
              "    </tr>\n",
              "    <tr>\n",
              "      <th>2</th>\n",
              "      <td>BHMBCCMKT01</td>\n",
              "      <td>577</td>\n",
              "      <td>80</td>\n",
              "      <td>10/4/2016 8:59</td>\n",
              "    </tr>\n",
              "    <tr>\n",
              "      <th>3</th>\n",
              "      <td>BHMBCCMKT01</td>\n",
              "      <td>577</td>\n",
              "      <td>107</td>\n",
              "      <td>10/4/2016 9:32</td>\n",
              "    </tr>\n",
              "    <tr>\n",
              "      <th>4</th>\n",
              "      <td>BHMBCCMKT01</td>\n",
              "      <td>577</td>\n",
              "      <td>150</td>\n",
              "      <td>10/4/2016 9:59</td>\n",
              "    </tr>\n",
              "    <tr>\n",
              "      <th>...</th>\n",
              "      <td>...</td>\n",
              "      <td>...</td>\n",
              "      <td>...</td>\n",
              "      <td>...</td>\n",
              "    </tr>\n",
              "    <tr>\n",
              "      <th>35712</th>\n",
              "      <td>Shopping</td>\n",
              "      <td>1920</td>\n",
              "      <td>1517</td>\n",
              "      <td>12/19/2016 14:30</td>\n",
              "    </tr>\n",
              "    <tr>\n",
              "      <th>35713</th>\n",
              "      <td>Shopping</td>\n",
              "      <td>1920</td>\n",
              "      <td>1487</td>\n",
              "      <td>12/19/2016 15:03</td>\n",
              "    </tr>\n",
              "    <tr>\n",
              "      <th>35714</th>\n",
              "      <td>Shopping</td>\n",
              "      <td>1920</td>\n",
              "      <td>1432</td>\n",
              "      <td>12/19/2016 15:29</td>\n",
              "    </tr>\n",
              "    <tr>\n",
              "      <th>35715</th>\n",
              "      <td>Shopping</td>\n",
              "      <td>1920</td>\n",
              "      <td>1321</td>\n",
              "      <td>12/19/2016 16:03</td>\n",
              "    </tr>\n",
              "    <tr>\n",
              "      <th>35716</th>\n",
              "      <td>Shopping</td>\n",
              "      <td>1920</td>\n",
              "      <td>1180</td>\n",
              "      <td>12/19/2016 16:30</td>\n",
              "    </tr>\n",
              "  </tbody>\n",
              "</table>\n",
              "<p>35717 rows × 4 columns</p>\n",
              "</div>"
            ],
            "text/plain": [
              "      SystemCodeNumber  Capacity  Occupancy       LastUpdated\n",
              "0          BHMBCCMKT01       577         61    10/4/2016 7:59\n",
              "1          BHMBCCMKT01       577         64    10/4/2016 8:25\n",
              "2          BHMBCCMKT01       577         80    10/4/2016 8:59\n",
              "3          BHMBCCMKT01       577        107    10/4/2016 9:32\n",
              "4          BHMBCCMKT01       577        150    10/4/2016 9:59\n",
              "...                ...       ...        ...               ...\n",
              "35712         Shopping      1920       1517  12/19/2016 14:30\n",
              "35713         Shopping      1920       1487  12/19/2016 15:03\n",
              "35714         Shopping      1920       1432  12/19/2016 15:29\n",
              "35715         Shopping      1920       1321  12/19/2016 16:03\n",
              "35716         Shopping      1920       1180  12/19/2016 16:30\n",
              "\n",
              "[35717 rows x 4 columns]"
            ]
          },
          "metadata": {
            "tags": []
          },
          "execution_count": 3
        }
      ]
    },
    {
      "cell_type": "markdown",
      "metadata": {
        "id": "556ee7a7"
      },
      "source": [
        "# Data Pre-Processing"
      ],
      "id": "556ee7a7"
    },
    {
      "cell_type": "code",
      "metadata": {
        "colab": {
          "base_uri": "https://localhost:8080/",
          "height": 297
        },
        "id": "c552f38d",
        "outputId": "f27a7fde-635a-4a33-f4fe-055a25bd26b8"
      },
      "source": [
        "data.describe()"
      ],
      "id": "c552f38d",
      "execution_count": null,
      "outputs": [
        {
          "output_type": "execute_result",
          "data": {
            "text/html": [
              "<div>\n",
              "<style scoped>\n",
              "    .dataframe tbody tr th:only-of-type {\n",
              "        vertical-align: middle;\n",
              "    }\n",
              "\n",
              "    .dataframe tbody tr th {\n",
              "        vertical-align: top;\n",
              "    }\n",
              "\n",
              "    .dataframe thead th {\n",
              "        text-align: right;\n",
              "    }\n",
              "</style>\n",
              "<table border=\"1\" class=\"dataframe\">\n",
              "  <thead>\n",
              "    <tr style=\"text-align: right;\">\n",
              "      <th></th>\n",
              "      <th>Capacity</th>\n",
              "      <th>Occupancy</th>\n",
              "    </tr>\n",
              "  </thead>\n",
              "  <tbody>\n",
              "    <tr>\n",
              "      <th>count</th>\n",
              "      <td>35717.000000</td>\n",
              "      <td>35717.000000</td>\n",
              "    </tr>\n",
              "    <tr>\n",
              "      <th>mean</th>\n",
              "      <td>1397.550130</td>\n",
              "      <td>642.228911</td>\n",
              "    </tr>\n",
              "    <tr>\n",
              "      <th>std</th>\n",
              "      <td>1179.326833</td>\n",
              "      <td>656.955535</td>\n",
              "    </tr>\n",
              "    <tr>\n",
              "      <th>min</th>\n",
              "      <td>220.000000</td>\n",
              "      <td>-8.000000</td>\n",
              "    </tr>\n",
              "    <tr>\n",
              "      <th>25%</th>\n",
              "      <td>500.000000</td>\n",
              "      <td>210.000000</td>\n",
              "    </tr>\n",
              "    <tr>\n",
              "      <th>50%</th>\n",
              "      <td>849.000000</td>\n",
              "      <td>446.000000</td>\n",
              "    </tr>\n",
              "    <tr>\n",
              "      <th>75%</th>\n",
              "      <td>2009.000000</td>\n",
              "      <td>798.000000</td>\n",
              "    </tr>\n",
              "    <tr>\n",
              "      <th>max</th>\n",
              "      <td>4675.000000</td>\n",
              "      <td>4327.000000</td>\n",
              "    </tr>\n",
              "  </tbody>\n",
              "</table>\n",
              "</div>"
            ],
            "text/plain": [
              "           Capacity     Occupancy\n",
              "count  35717.000000  35717.000000\n",
              "mean    1397.550130    642.228911\n",
              "std     1179.326833    656.955535\n",
              "min      220.000000     -8.000000\n",
              "25%      500.000000    210.000000\n",
              "50%      849.000000    446.000000\n",
              "75%     2009.000000    798.000000\n",
              "max     4675.000000   4327.000000"
            ]
          },
          "metadata": {
            "tags": []
          },
          "execution_count": 4
        }
      ]
    },
    {
      "cell_type": "code",
      "metadata": {
        "colab": {
          "base_uri": "https://localhost:8080/",
          "height": 298
        },
        "id": "b40aa04e",
        "outputId": "337ca6c6-1824-4e4d-a89f-503c5d17b4fc"
      },
      "source": [
        "plt.boxplot(data['Occupancy'])\n",
        "plt.title('Occupancy')"
      ],
      "id": "b40aa04e",
      "execution_count": null,
      "outputs": [
        {
          "output_type": "execute_result",
          "data": {
            "text/plain": [
              "Text(0.5, 1.0, 'Occupancy')"
            ]
          },
          "metadata": {
            "tags": []
          },
          "execution_count": 5
        },
        {
          "output_type": "display_data",
          "data": {
            "image/png": "[encoded data removed]",
            "text/plain": [
              "<Figure size 432x288 with 1 Axes>"
            ]
          },
          "metadata": {
            "tags": [],
            "needs_background": "light"
          }
        }
      ]
    },
    {
      "cell_type": "code",
      "metadata": {
        "colab": {
          "base_uri": "https://localhost:8080/",
          "height": 298
        },
        "id": "6b18056e",
        "outputId": "d98eb8c0-4afd-4e86-e322-2d8c082c9139"
      },
      "source": [
        "plt.boxplot(data['Capacity'])\n",
        "plt.title('Capacity')"
      ],
      "id": "6b18056e",
      "execution_count": null,
      "outputs": [
        {
          "output_type": "execute_result",
          "data": {
            "text/plain": [
              "Text(0.5, 1.0, 'Capacity')"
            ]
          },
          "metadata": {
            "tags": []
          },
          "execution_count": 6
        },
        {
          "output_type": "display_data",
          "data": {
            "image/png": "[encoded data removed]",
            "text/plain": [
              "<Figure size 432x288 with 1 Axes>"
            ]
          },
          "metadata": {
            "tags": [],
            "needs_background": "light"
          }
        }
      ]
    },
    {
      "cell_type": "code",
      "metadata": {
        "colab": {
          "base_uri": "https://localhost:8080/"
        },
        "id": "b6364c92",
        "outputId": "5710677a-ce47-416e-c257-99caa84cc4b2"
      },
      "source": [
        "print('Number of instances before= %d' % (data.shape[0]))\n",
        "print('Number of attributes before= %d' % (data.shape[1]))"
      ],
      "id": "b6364c92",
      "execution_count": null,
      "outputs": [
        {
          "output_type": "stream",
          "text": [
            "Number of instances before= 35717\n",
            "Number of attributes before= 4\n"
          ],
          "name": "stdout"
        }
      ]
    },
    {
      "cell_type": "code",
      "metadata": {
        "colab": {
          "base_uri": "https://localhost:8080/"
        },
        "id": "f6dedba5",
        "outputId": "9eb56390-3ed4-4129-c67f-11e14f65a935"
      },
      "source": [
        "print((data[data['Occupancy'] > data['Capacity']]))"
      ],
      "id": "f6dedba5",
      "execution_count": null,
      "outputs": [
        {
          "output_type": "stream",
          "text": [
            "      SystemCodeNumber  Capacity  Occupancy       LastUpdated\n",
            "1396       BHMBCCPST01       317        320   10/8/2016 14:03\n",
            "1613       BHMBCCPST01       317        318  10/22/2016 14:39\n",
            "3548       BHMBCCSNH01       863        865  11/28/2016 11:01\n",
            "3549       BHMBCCSNH01       863        866  11/28/2016 11:32\n",
            "3583       BHMBCCSNH01       863        864  11/30/2016 10:28\n",
            "...                ...       ...        ...               ...\n",
            "7542       BHMBRCBRG02      1194       1198  12/18/2016 14:03\n",
            "12732      BHMMBMMBX01       687        688  12/19/2016 13:03\n",
            "14796      BHMNCPLDH01       720        723  11/16/2016 11:00\n",
            "15350      BHMNCPNHS01       500        501   10/4/2016 10:26\n",
            "15768      BHMNCPNHS01       500        503   11/8/2016 13:00\n",
            "\n",
            "[373 rows x 4 columns]\n"
          ],
          "name": "stdout"
        }
      ]
    },
    {
      "cell_type": "code",
      "metadata": {
        "colab": {
          "base_uri": "https://localhost:8080/"
        },
        "id": "0b5e8e08",
        "outputId": "6deaf4a6-a2b1-41bf-b390-0284454d8568"
      },
      "source": [
        "data.info()"
      ],
      "id": "0b5e8e08",
      "execution_count": null,
      "outputs": [
        {
          "output_type": "stream",
          "text": [
            "<class 'pandas.core.frame.DataFrame'>\n",
            "RangeIndex: 35717 entries, 0 to 35716\n",
            "Data columns (total 4 columns):\n",
            " #   Column            Non-Null Count  Dtype \n",
            "---  ------            --------------  ----- \n",
            " 0   SystemCodeNumber  35717 non-null  object\n",
            " 1   Capacity          35717 non-null  int64 \n",
            " 2   Occupancy         35717 non-null  int64 \n",
            " 3   LastUpdated       35717 non-null  object\n",
            "dtypes: int64(2), object(2)\n",
            "memory usage: 1.1+ MB\n"
          ],
          "name": "stdout"
        }
      ]
    },
    {
      "cell_type": "code",
      "metadata": {
        "colab": {
          "base_uri": "https://localhost:8080/"
        },
        "id": "be0cc90b",
        "outputId": "9b23e83a-eaf3-48f9-e8e4-b9cd0ee74be8"
      },
      "source": [
        "data.dropna(inplace = True)\n",
        "data.drop_duplicates(keep='first',inplace=True)\n",
        "data = data[data['Occupancy']>=0 ]\n",
        "data = data[data['Capacity']>=0 ]\n",
        "false_data = data[data['Occupancy']> data['Capacity']]\n",
        "data = pd.concat([data, false_data]).drop_duplicates(keep=False)\n",
        "\n",
        "print('Number of instances after= %d' % (data.shape[0]))\n",
        "print('Number of attributes after= %d' % (data.shape[1]))"
      ],
      "id": "be0cc90b",
      "execution_count": null,
      "outputs": [
        {
          "output_type": "stream",
          "text": [
            "Number of instances after= 35116\n",
            "Number of attributes after= 4\n"
          ],
          "name": "stdout"
        }
      ]
    },
    {
      "cell_type": "code",
      "metadata": {
        "colab": {
          "base_uri": "https://localhost:8080/",
          "height": 297
        },
        "id": "e80dd0b7",
        "outputId": "f7f93611-f3b3-44d3-866d-52573c1c897b"
      },
      "source": [
        "data.describe()"
      ],
      "id": "e80dd0b7",
      "execution_count": null,
      "outputs": [
        {
          "output_type": "execute_result",
          "data": {
            "text/html": [
              "<div>\n",
              "<style scoped>\n",
              "    .dataframe tbody tr th:only-of-type {\n",
              "        vertical-align: middle;\n",
              "    }\n",
              "\n",
              "    .dataframe tbody tr th {\n",
              "        vertical-align: top;\n",
              "    }\n",
              "\n",
              "    .dataframe thead th {\n",
              "        text-align: right;\n",
              "    }\n",
              "</style>\n",
              "<table border=\"1\" class=\"dataframe\">\n",
              "  <thead>\n",
              "    <tr style=\"text-align: right;\">\n",
              "      <th></th>\n",
              "      <th>Capacity</th>\n",
              "      <th>Occupancy</th>\n",
              "    </tr>\n",
              "  </thead>\n",
              "  <tbody>\n",
              "    <tr>\n",
              "      <th>count</th>\n",
              "      <td>35116.000000</td>\n",
              "      <td>35116.000000</td>\n",
              "    </tr>\n",
              "    <tr>\n",
              "      <th>mean</th>\n",
              "      <td>1407.923966</td>\n",
              "      <td>645.350496</td>\n",
              "    </tr>\n",
              "    <tr>\n",
              "      <th>std</th>\n",
              "      <td>1183.011879</td>\n",
              "      <td>660.531340</td>\n",
              "    </tr>\n",
              "    <tr>\n",
              "      <th>min</th>\n",
              "      <td>220.000000</td>\n",
              "      <td>0.000000</td>\n",
              "    </tr>\n",
              "    <tr>\n",
              "      <th>25%</th>\n",
              "      <td>577.000000</td>\n",
              "      <td>210.000000</td>\n",
              "    </tr>\n",
              "    <tr>\n",
              "      <th>50%</th>\n",
              "      <td>863.000000</td>\n",
              "      <td>450.000000</td>\n",
              "    </tr>\n",
              "    <tr>\n",
              "      <th>75%</th>\n",
              "      <td>2009.000000</td>\n",
              "      <td>799.000000</td>\n",
              "    </tr>\n",
              "    <tr>\n",
              "      <th>max</th>\n",
              "      <td>4675.000000</td>\n",
              "      <td>4327.000000</td>\n",
              "    </tr>\n",
              "  </tbody>\n",
              "</table>\n",
              "</div>"
            ],
            "text/plain": [
              "           Capacity     Occupancy\n",
              "count  35116.000000  35116.000000\n",
              "mean    1407.923966    645.350496\n",
              "std     1183.011879    660.531340\n",
              "min      220.000000      0.000000\n",
              "25%      577.000000    210.000000\n",
              "50%      863.000000    450.000000\n",
              "75%     2009.000000    799.000000\n",
              "max     4675.000000   4327.000000"
            ]
          },
          "metadata": {
            "tags": []
          },
          "execution_count": 11
        }
      ]
    },
    {
      "cell_type": "code",
      "metadata": {
        "colab": {
          "base_uri": "https://localhost:8080/"
        },
        "id": "1106d86e",
        "outputId": "5ef5a52b-879f-41ce-8a54-b76f253705d8"
      },
      "source": [
        "dateTime = data['LastUpdated'].str.split(\" \", n = 1, expand = True) \n",
        "date = dateTime[0]\n",
        "time = dateTime[1]\n",
        "data['Date'] = date\n",
        "data['Time'] = time\n",
        "day_name = ['Mon', 'Tue', 'Wed', 'Thu', 'Fri', 'Sat', 'Sun']\n",
        "data['Day'] = pd.to_datetime(data['Date']).dt.dayofweek.apply(lambda x: day_name[x])\n",
        "\n",
        "data.info()"
      ],
      "id": "1106d86e",
      "execution_count": null,
      "outputs": [
        {
          "output_type": "stream",
          "text": [
            "<class 'pandas.core.frame.DataFrame'>\n",
            "Int64Index: 35116 entries, 0 to 35716\n",
            "Data columns (total 7 columns):\n",
            " #   Column            Non-Null Count  Dtype \n",
            "---  ------            --------------  ----- \n",
            " 0   SystemCodeNumber  35116 non-null  object\n",
            " 1   Capacity          35116 non-null  int64 \n",
            " 2   Occupancy         35116 non-null  int64 \n",
            " 3   LastUpdated       35116 non-null  object\n",
            " 4   Date              35116 non-null  object\n",
            " 5   Time              35116 non-null  object\n",
            " 6   Day               35116 non-null  object\n",
            "dtypes: int64(2), object(5)\n",
            "memory usage: 2.1+ MB\n"
          ],
          "name": "stdout"
        }
      ]
    },
    {
      "cell_type": "code",
      "metadata": {
        "id": "16d62e31"
      },
      "source": [
        "data['OccupancyRate'] = (100.0*data['Occupancy'])/data['Capacity']"
      ],
      "id": "16d62e31",
      "execution_count": null,
      "outputs": []
    },
    {
      "cell_type": "code",
      "metadata": {
        "colab": {
          "base_uri": "https://localhost:8080/",
          "height": 419
        },
        "id": "9bb1e965",
        "outputId": "cb094839-abe4-4732-9e3c-94462ea3e666"
      },
      "source": [
        "data"
      ],
      "id": "9bb1e965",
      "execution_count": null,
      "outputs": [
        {
          "output_type": "execute_result",
          "data": {
            "text/html": [
              "<div>\n",
              "<style scoped>\n",
              "    .dataframe tbody tr th:only-of-type {\n",
              "        vertical-align: middle;\n",
              "    }\n",
              "\n",
              "    .dataframe tbody tr th {\n",
              "        vertical-align: top;\n",
              "    }\n",
              "\n",
              "    .dataframe thead th {\n",
              "        text-align: right;\n",
              "    }\n",
              "</style>\n",
              "<table border=\"1\" class=\"dataframe\">\n",
              "  <thead>\n",
              "    <tr style=\"text-align: right;\">\n",
              "      <th></th>\n",
              "      <th>SystemCodeNumber</th>\n",
              "      <th>Capacity</th>\n",
              "      <th>Occupancy</th>\n",
              "      <th>LastUpdated</th>\n",
              "      <th>Date</th>\n",
              "      <th>Time</th>\n",
              "      <th>Day</th>\n",
              "      <th>OccupancyRate</th>\n",
              "    </tr>\n",
              "  </thead>\n",
              "  <tbody>\n",
              "    <tr>\n",
              "      <th>0</th>\n",
              "      <td>BHMBCCMKT01</td>\n",
              "      <td>577</td>\n",
              "      <td>61</td>\n",
              "      <td>10/4/2016 7:59</td>\n",
              "      <td>10/4/2016</td>\n",
              "      <td>7:59</td>\n",
              "      <td>Tue</td>\n",
              "      <td>10.571924</td>\n",
              "    </tr>\n",
              "    <tr>\n",
              "      <th>1</th>\n",
              "      <td>BHMBCCMKT01</td>\n",
              "      <td>577</td>\n",
              "      <td>64</td>\n",
              "      <td>10/4/2016 8:25</td>\n",
              "      <td>10/4/2016</td>\n",
              "      <td>8:25</td>\n",
              "      <td>Tue</td>\n",
              "      <td>11.091854</td>\n",
              "    </tr>\n",
              "    <tr>\n",
              "      <th>2</th>\n",
              "      <td>BHMBCCMKT01</td>\n",
              "      <td>577</td>\n",
              "      <td>80</td>\n",
              "      <td>10/4/2016 8:59</td>\n",
              "      <td>10/4/2016</td>\n",
              "      <td>8:59</td>\n",
              "      <td>Tue</td>\n",
              "      <td>13.864818</td>\n",
              "    </tr>\n",
              "    <tr>\n",
              "      <th>3</th>\n",
              "      <td>BHMBCCMKT01</td>\n",
              "      <td>577</td>\n",
              "      <td>107</td>\n",
              "      <td>10/4/2016 9:32</td>\n",
              "      <td>10/4/2016</td>\n",
              "      <td>9:32</td>\n",
              "      <td>Tue</td>\n",
              "      <td>18.544194</td>\n",
              "    </tr>\n",
              "    <tr>\n",
              "      <th>4</th>\n",
              "      <td>BHMBCCMKT01</td>\n",
              "      <td>577</td>\n",
              "      <td>150</td>\n",
              "      <td>10/4/2016 9:59</td>\n",
              "      <td>10/4/2016</td>\n",
              "      <td>9:59</td>\n",
              "      <td>Tue</td>\n",
              "      <td>25.996534</td>\n",
              "    </tr>\n",
              "    <tr>\n",
              "      <th>...</th>\n",
              "      <td>...</td>\n",
              "      <td>...</td>\n",
              "      <td>...</td>\n",
              "      <td>...</td>\n",
              "      <td>...</td>\n",
              "      <td>...</td>\n",
              "      <td>...</td>\n",
              "      <td>...</td>\n",
              "    </tr>\n",
              "    <tr>\n",
              "      <th>35712</th>\n",
              "      <td>Shopping</td>\n",
              "      <td>1920</td>\n",
              "      <td>1517</td>\n",
              "      <td>12/19/2016 14:30</td>\n",
              "      <td>12/19/2016</td>\n",
              "      <td>14:30</td>\n",
              "      <td>Mon</td>\n",
              "      <td>79.010417</td>\n",
              "    </tr>\n",
              "    <tr>\n",
              "      <th>35713</th>\n",
              "      <td>Shopping</td>\n",
              "      <td>1920</td>\n",
              "      <td>1487</td>\n",
              "      <td>12/19/2016 15:03</td>\n",
              "      <td>12/19/2016</td>\n",
              "      <td>15:03</td>\n",
              "      <td>Mon</td>\n",
              "      <td>77.447917</td>\n",
              "    </tr>\n",
              "    <tr>\n",
              "      <th>35714</th>\n",
              "      <td>Shopping</td>\n",
              "      <td>1920</td>\n",
              "      <td>1432</td>\n",
              "      <td>12/19/2016 15:29</td>\n",
              "      <td>12/19/2016</td>\n",
              "      <td>15:29</td>\n",
              "      <td>Mon</td>\n",
              "      <td>74.583333</td>\n",
              "    </tr>\n",
              "    <tr>\n",
              "      <th>35715</th>\n",
              "      <td>Shopping</td>\n",
              "      <td>1920</td>\n",
              "      <td>1321</td>\n",
              "      <td>12/19/2016 16:03</td>\n",
              "      <td>12/19/2016</td>\n",
              "      <td>16:03</td>\n",
              "      <td>Mon</td>\n",
              "      <td>68.802083</td>\n",
              "    </tr>\n",
              "    <tr>\n",
              "      <th>35716</th>\n",
              "      <td>Shopping</td>\n",
              "      <td>1920</td>\n",
              "      <td>1180</td>\n",
              "      <td>12/19/2016 16:30</td>\n",
              "      <td>12/19/2016</td>\n",
              "      <td>16:30</td>\n",
              "      <td>Mon</td>\n",
              "      <td>61.458333</td>\n",
              "    </tr>\n",
              "  </tbody>\n",
              "</table>\n",
              "<p>35116 rows × 8 columns</p>\n",
              "</div>"
            ],
            "text/plain": [
              "      SystemCodeNumber  Capacity  Occupancy  ...   Time  Day OccupancyRate\n",
              "0          BHMBCCMKT01       577         61  ...   7:59  Tue     10.571924\n",
              "1          BHMBCCMKT01       577         64  ...   8:25  Tue     11.091854\n",
              "2          BHMBCCMKT01       577         80  ...   8:59  Tue     13.864818\n",
              "3          BHMBCCMKT01       577        107  ...   9:32  Tue     18.544194\n",
              "4          BHMBCCMKT01       577        150  ...   9:59  Tue     25.996534\n",
              "...                ...       ...        ...  ...    ...  ...           ...\n",
              "35712         Shopping      1920       1517  ...  14:30  Mon     79.010417\n",
              "35713         Shopping      1920       1487  ...  15:03  Mon     77.447917\n",
              "35714         Shopping      1920       1432  ...  15:29  Mon     74.583333\n",
              "35715         Shopping      1920       1321  ...  16:03  Mon     68.802083\n",
              "35716         Shopping      1920       1180  ...  16:30  Mon     61.458333\n",
              "\n",
              "[35116 rows x 8 columns]"
            ]
          },
          "metadata": {
            "tags": []
          },
          "execution_count": 14
        }
      ]
    },
    {
      "cell_type": "markdown",
      "metadata": {
        "id": "18b25b2d"
      },
      "source": [
        "# Data Visualization"
      ],
      "id": "18b25b2d"
    },
    {
      "cell_type": "code",
      "metadata": {
        "colab": {
          "base_uri": "https://localhost:8080/",
          "height": 400
        },
        "id": "44dde1c6",
        "outputId": "7347a75f-1ae9-4457-ef06-ca4e2a40a389"
      },
      "source": [
        "box = sns.catplot(x = \"Day\",y=\"OccupancyRate\",kind='box',data=data)\n",
        "box.set(xlabel=\"Week Days\", ylabel = \"OccupancyRate\")"
      ],
      "id": "44dde1c6",
      "execution_count": null,
      "outputs": [
        {
          "output_type": "execute_result",
          "data": {
            "text/plain": [
              "<seaborn.axisgrid.FacetGrid at 0x7ff594519b50>"
            ]
          },
          "metadata": {
            "tags": []
          },
          "execution_count": 15
        },
        {
          "output_type": "display_data",
          "data": {
            "image/png": "[encoded data removed]",
            "text/plain": [
              "<Figure size 360x360 with 1 Axes>"
            ]
          },
          "metadata": {
            "tags": [],
            "needs_background": "light"
          }
        }
      ]
    },
    {
      "cell_type": "code",
      "metadata": {
        "colab": {
          "base_uri": "https://localhost:8080/",
          "height": 366
        },
        "id": "cd5ba779",
        "outputId": "2c70d45c-cc51-4f85-a1d5-e7da6ef93dea"
      },
      "source": [
        "graph = sns.catplot(x='Day', kind='count', data=data)\n",
        "graph.fig.autofmt_xdate()\n",
        "graph.set(xlabel=\"Week Days\", ylabel = \"Count\")"
      ],
      "id": "cd5ba779",
      "execution_count": null,
      "outputs": [
        {
          "output_type": "execute_result",
          "data": {
            "text/plain": [
              "<seaborn.axisgrid.FacetGrid at 0x7ff59332cdd0>"
            ]
          },
          "metadata": {
            "tags": []
          },
          "execution_count": 16
        },
        {
          "output_type": "display_data",
          "data": {
            "image/png": "[encoded data removed]",
            "text/plain": [
              "<Figure size 360x360 with 1 Axes>"
            ]
          },
          "metadata": {
            "tags": [],
            "needs_background": "light"
          }
        }
      ]
    },
    {
      "cell_type": "code",
      "metadata": {
        "colab": {
          "base_uri": "https://localhost:8080/",
          "height": 298
        },
        "id": "c73c9175",
        "outputId": "7fbcf75f-6e22-4116-b283-9b54903c5316"
      },
      "source": [
        "plt.boxplot(data['Occupancy'])\n",
        "plt.title('Occupancy')"
      ],
      "id": "c73c9175",
      "execution_count": null,
      "outputs": [
        {
          "output_type": "execute_result",
          "data": {
            "text/plain": [
              "Text(0.5, 1.0, 'Occupancy')"
            ]
          },
          "metadata": {
            "tags": []
          },
          "execution_count": 17
        },
        {
          "output_type": "display_data",
          "data": {
            "image/png": "[encoded data removed]",
            "text/plain": [
              "<Figure size 432x288 with 1 Axes>"
            ]
          },
          "metadata": {
            "tags": [],
            "needs_background": "light"
          }
        }
      ]
    },
    {
      "cell_type": "code",
      "metadata": {
        "colab": {
          "base_uri": "https://localhost:8080/",
          "height": 298
        },
        "id": "eb1083e4",
        "outputId": "5a1a3df9-c84c-444c-920d-3dcdd3ef7acf"
      },
      "source": [
        "plt.boxplot(data['Capacity'])\n",
        "plt.title('Capacity')"
      ],
      "id": "eb1083e4",
      "execution_count": null,
      "outputs": [
        {
          "output_type": "execute_result",
          "data": {
            "text/plain": [
              "Text(0.5, 1.0, 'Capacity')"
            ]
          },
          "metadata": {
            "tags": []
          },
          "execution_count": 18
        },
        {
          "output_type": "display_data",
          "data": {
            "image/png": "[encoded data removed]",
            "text/plain": [
              "<Figure size 432x288 with 1 Axes>"
            ]
          },
          "metadata": {
            "tags": [],
            "needs_background": "light"
          }
        }
      ]
    },
    {
      "cell_type": "code",
      "metadata": {
        "colab": {
          "base_uri": "https://localhost:8080/",
          "height": 351
        },
        "id": "9e58e3cd",
        "outputId": "75e792e9-510d-4ef4-b7ec-5c321c88f2f1"
      },
      "source": [
        "hist = sns.catplot(x='Capacity', kind='count', data=data, aspect=20/8.27)\n",
        "hist.fig.autofmt_xdate()\n",
        "hist.set(xlabel=\"Capacity Frequency\", ylabel = \"Count\")"
      ],
      "id": "9e58e3cd",
      "execution_count": null,
      "outputs": [
        {
          "output_type": "execute_result",
          "data": {
            "text/plain": [
              "<seaborn.axisgrid.FacetGrid at 0x7ff59362d250>"
            ]
          },
          "metadata": {
            "tags": []
          },
          "execution_count": 19
        },
        {
          "output_type": "display_data",
          "data": {
            "image/png": "[encoded data removed]",
            "text/plain": [
              "<Figure size 870.617x360 with 1 Axes>"
            ]
          },
          "metadata": {
            "tags": [],
            "needs_background": "light"
          }
        }
      ]
    },
    {
      "cell_type": "code",
      "metadata": {
        "colab": {
          "base_uri": "https://localhost:8080/"
        },
        "id": "719fa7be",
        "outputId": "8b89f67b-fc07-4a2b-baa1-79d67033e76f"
      },
      "source": [
        "print(data['Capacity'].value_counts())"
      ],
      "id": "719fa7be",
      "execution_count": null,
      "outputs": [
        {
          "output_type": "stream",
          "text": [
            "3103    1307\n",
            "1920    1307\n",
            "577     1307\n",
            "2009    1307\n",
            "2937    1307\n",
            "1322    1307\n",
            "3883    1307\n",
            "2803    1307\n",
            "470     1306\n",
            "687     1306\n",
            "690     1306\n",
            "1200    1301\n",
            "485     1299\n",
            "4675    1289\n",
            "720     1280\n",
            "863     1278\n",
            "220     1270\n",
            "317     1269\n",
            "450     1253\n",
            "788     1199\n",
            "1268    1199\n",
            "849     1180\n",
            "3053    1180\n",
            "600     1174\n",
            "1194    1150\n",
            "1010    1093\n",
            "387     1067\n",
            "500     1026\n",
            "480      147\n",
            "496       88\n",
            "Name: Capacity, dtype: int64\n"
          ],
          "name": "stdout"
        }
      ]
    },
    {
      "cell_type": "markdown",
      "metadata": {
        "id": "c031f936"
      },
      "source": [
        "# Data Sampling"
      ],
      "id": "c031f936"
    },
    {
      "cell_type": "code",
      "metadata": {
        "id": "2065e9ad"
      },
      "source": [
        "subset = data.sample(n=10000)"
      ],
      "id": "2065e9ad",
      "execution_count": null,
      "outputs": []
    },
    {
      "cell_type": "code",
      "metadata": {
        "colab": {
          "base_uri": "https://localhost:8080/"
        },
        "id": "b806b7e7",
        "outputId": "9493aa7e-0dea-4935-b702-cae57617b60c"
      },
      "source": [
        "subset.shape"
      ],
      "id": "b806b7e7",
      "execution_count": null,
      "outputs": [
        {
          "output_type": "execute_result",
          "data": {
            "text/plain": [
              "(10000, 8)"
            ]
          },
          "metadata": {
            "tags": []
          },
          "execution_count": 22
        }
      ]
    },
    {
      "cell_type": "code",
      "metadata": {
        "colab": {
          "base_uri": "https://localhost:8080/",
          "height": 419
        },
        "id": "a3124bcd",
        "outputId": "3c4ebd80-7f5d-4a9c-e60b-97f1181c81d2"
      },
      "source": [
        "subset"
      ],
      "id": "a3124bcd",
      "execution_count": null,
      "outputs": [
        {
          "output_type": "execute_result",
          "data": {
            "text/html": [
              "<div>\n",
              "<style scoped>\n",
              "    .dataframe tbody tr th:only-of-type {\n",
              "        vertical-align: middle;\n",
              "    }\n",
              "\n",
              "    .dataframe tbody tr th {\n",
              "        vertical-align: top;\n",
              "    }\n",
              "\n",
              "    .dataframe thead th {\n",
              "        text-align: right;\n",
              "    }\n",
              "</style>\n",
              "<table border=\"1\" class=\"dataframe\">\n",
              "  <thead>\n",
              "    <tr style=\"text-align: right;\">\n",
              "      <th></th>\n",
              "      <th>SystemCodeNumber</th>\n",
              "      <th>Capacity</th>\n",
              "      <th>Occupancy</th>\n",
              "      <th>LastUpdated</th>\n",
              "      <th>Date</th>\n",
              "      <th>Time</th>\n",
              "      <th>Day</th>\n",
              "      <th>OccupancyRate</th>\n",
              "    </tr>\n",
              "  </thead>\n",
              "  <tbody>\n",
              "    <tr>\n",
              "      <th>23858</th>\n",
              "      <td>NIA Car Parks</td>\n",
              "      <td>1268</td>\n",
              "      <td>107</td>\n",
              "      <td>12/16/2016 9:30</td>\n",
              "      <td>12/16/2016</td>\n",
              "      <td>9:30</td>\n",
              "      <td>Fri</td>\n",
              "      <td>8.438486</td>\n",
              "    </tr>\n",
              "    <tr>\n",
              "      <th>10000</th>\n",
              "      <td>BHMEURBRD01</td>\n",
              "      <td>470</td>\n",
              "      <td>99</td>\n",
              "      <td>12/11/2016 11:59</td>\n",
              "      <td>12/11/2016</td>\n",
              "      <td>11:59</td>\n",
              "      <td>Sun</td>\n",
              "      <td>21.063830</td>\n",
              "    </tr>\n",
              "    <tr>\n",
              "      <th>15769</th>\n",
              "      <td>BHMNCPNHS01</td>\n",
              "      <td>500</td>\n",
              "      <td>500</td>\n",
              "      <td>11/8/2016 13:34</td>\n",
              "      <td>11/8/2016</td>\n",
              "      <td>13:34</td>\n",
              "      <td>Tue</td>\n",
              "      <td>100.000000</td>\n",
              "    </tr>\n",
              "    <tr>\n",
              "      <th>15038</th>\n",
              "      <td>BHMNCPLDH01</td>\n",
              "      <td>720</td>\n",
              "      <td>675</td>\n",
              "      <td>11/29/2016 14:55</td>\n",
              "      <td>11/29/2016</td>\n",
              "      <td>14:55</td>\n",
              "      <td>Tue</td>\n",
              "      <td>93.750000</td>\n",
              "    </tr>\n",
              "    <tr>\n",
              "      <th>25772</th>\n",
              "      <td>Others-CCCPS105a</td>\n",
              "      <td>2009</td>\n",
              "      <td>1196</td>\n",
              "      <td>11/4/2016 13:26</td>\n",
              "      <td>11/4/2016</td>\n",
              "      <td>13:26</td>\n",
              "      <td>Fri</td>\n",
              "      <td>59.532106</td>\n",
              "    </tr>\n",
              "    <tr>\n",
              "      <th>...</th>\n",
              "      <td>...</td>\n",
              "      <td>...</td>\n",
              "      <td>...</td>\n",
              "      <td>...</td>\n",
              "      <td>...</td>\n",
              "      <td>...</td>\n",
              "      <td>...</td>\n",
              "      <td>...</td>\n",
              "    </tr>\n",
              "    <tr>\n",
              "      <th>11060</th>\n",
              "      <td>BHMEURBRD02</td>\n",
              "      <td>220</td>\n",
              "      <td>52</td>\n",
              "      <td>11/26/2016 12:01</td>\n",
              "      <td>11/26/2016</td>\n",
              "      <td>12:01</td>\n",
              "      <td>Sat</td>\n",
              "      <td>23.636364</td>\n",
              "    </tr>\n",
              "    <tr>\n",
              "      <th>11922</th>\n",
              "      <td>BHMMBMMBX01</td>\n",
              "      <td>687</td>\n",
              "      <td>591</td>\n",
              "      <td>11/2/2016 11:56</td>\n",
              "      <td>11/2/2016</td>\n",
              "      <td>11:56</td>\n",
              "      <td>Wed</td>\n",
              "      <td>86.026201</td>\n",
              "    </tr>\n",
              "    <tr>\n",
              "      <th>33834</th>\n",
              "      <td>Others-CCCPS98</td>\n",
              "      <td>3103</td>\n",
              "      <td>861</td>\n",
              "      <td>11/16/2016 9:27</td>\n",
              "      <td>11/16/2016</td>\n",
              "      <td>9:27</td>\n",
              "      <td>Wed</td>\n",
              "      <td>27.747341</td>\n",
              "    </tr>\n",
              "    <tr>\n",
              "      <th>29645</th>\n",
              "      <td>Others-CCCPS135a</td>\n",
              "      <td>3883</td>\n",
              "      <td>1944</td>\n",
              "      <td>11/2/2016 8:56</td>\n",
              "      <td>11/2/2016</td>\n",
              "      <td>8:56</td>\n",
              "      <td>Wed</td>\n",
              "      <td>50.064383</td>\n",
              "    </tr>\n",
              "    <tr>\n",
              "      <th>35007</th>\n",
              "      <td>Shopping</td>\n",
              "      <td>1920</td>\n",
              "      <td>1517</td>\n",
              "      <td>11/8/2016 11:59</td>\n",
              "      <td>11/8/2016</td>\n",
              "      <td>11:59</td>\n",
              "      <td>Tue</td>\n",
              "      <td>79.010417</td>\n",
              "    </tr>\n",
              "  </tbody>\n",
              "</table>\n",
              "<p>10000 rows × 8 columns</p>\n",
              "</div>"
            ],
            "text/plain": [
              "       SystemCodeNumber  Capacity  Occupancy  ...   Time  Day OccupancyRate\n",
              "23858     NIA Car Parks      1268        107  ...   9:30  Fri      8.438486\n",
              "10000       BHMEURBRD01       470         99  ...  11:59  Sun     21.063830\n",
              "15769       BHMNCPNHS01       500        500  ...  13:34  Tue    100.000000\n",
              "15038       BHMNCPLDH01       720        675  ...  14:55  Tue     93.750000\n",
              "25772  Others-CCCPS105a      2009       1196  ...  13:26  Fri     59.532106\n",
              "...                 ...       ...        ...  ...    ...  ...           ...\n",
              "11060       BHMEURBRD02       220         52  ...  12:01  Sat     23.636364\n",
              "11922       BHMMBMMBX01       687        591  ...  11:56  Wed     86.026201\n",
              "33834    Others-CCCPS98      3103        861  ...   9:27  Wed     27.747341\n",
              "29645  Others-CCCPS135a      3883       1944  ...   8:56  Wed     50.064383\n",
              "35007          Shopping      1920       1517  ...  11:59  Tue     79.010417\n",
              "\n",
              "[10000 rows x 8 columns]"
            ]
          },
          "metadata": {
            "tags": []
          },
          "execution_count": 23
        }
      ]
    },
    {
      "cell_type": "code",
      "metadata": {
        "colab": {
          "base_uri": "https://localhost:8080/",
          "height": 297
        },
        "id": "3c6be4fd",
        "outputId": "cd4408eb-601f-4c3b-bdf7-5083320659b5"
      },
      "source": [
        "subset.describe()"
      ],
      "id": "3c6be4fd",
      "execution_count": null,
      "outputs": [
        {
          "output_type": "execute_result",
          "data": {
            "text/html": [
              "<div>\n",
              "<style scoped>\n",
              "    .dataframe tbody tr th:only-of-type {\n",
              "        vertical-align: middle;\n",
              "    }\n",
              "\n",
              "    .dataframe tbody tr th {\n",
              "        vertical-align: top;\n",
              "    }\n",
              "\n",
              "    .dataframe thead th {\n",
              "        text-align: right;\n",
              "    }\n",
              "</style>\n",
              "<table border=\"1\" class=\"dataframe\">\n",
              "  <thead>\n",
              "    <tr style=\"text-align: right;\">\n",
              "      <th></th>\n",
              "      <th>Capacity</th>\n",
              "      <th>Occupancy</th>\n",
              "      <th>OccupancyRate</th>\n",
              "    </tr>\n",
              "  </thead>\n",
              "  <tbody>\n",
              "    <tr>\n",
              "      <th>count</th>\n",
              "      <td>10000.000000</td>\n",
              "      <td>10000.00000</td>\n",
              "      <td>10000.000000</td>\n",
              "    </tr>\n",
              "    <tr>\n",
              "      <th>mean</th>\n",
              "      <td>1420.077500</td>\n",
              "      <td>653.35910</td>\n",
              "      <td>48.973870</td>\n",
              "    </tr>\n",
              "    <tr>\n",
              "      <th>std</th>\n",
              "      <td>1188.863904</td>\n",
              "      <td>665.34141</td>\n",
              "      <td>26.568154</td>\n",
              "    </tr>\n",
              "    <tr>\n",
              "      <th>min</th>\n",
              "      <td>220.000000</td>\n",
              "      <td>0.00000</td>\n",
              "      <td>0.000000</td>\n",
              "    </tr>\n",
              "    <tr>\n",
              "      <th>25%</th>\n",
              "      <td>577.000000</td>\n",
              "      <td>213.00000</td>\n",
              "      <td>25.677267</td>\n",
              "    </tr>\n",
              "    <tr>\n",
              "      <th>50%</th>\n",
              "      <td>863.000000</td>\n",
              "      <td>454.00000</td>\n",
              "      <td>47.059191</td>\n",
              "    </tr>\n",
              "    <tr>\n",
              "      <th>75%</th>\n",
              "      <td>2009.000000</td>\n",
              "      <td>814.25000</td>\n",
              "      <td>71.136974</td>\n",
              "    </tr>\n",
              "    <tr>\n",
              "      <th>max</th>\n",
              "      <td>4675.000000</td>\n",
              "      <td>4327.00000</td>\n",
              "      <td>100.000000</td>\n",
              "    </tr>\n",
              "  </tbody>\n",
              "</table>\n",
              "</div>"
            ],
            "text/plain": [
              "           Capacity    Occupancy  OccupancyRate\n",
              "count  10000.000000  10000.00000   10000.000000\n",
              "mean    1420.077500    653.35910      48.973870\n",
              "std     1188.863904    665.34141      26.568154\n",
              "min      220.000000      0.00000       0.000000\n",
              "25%      577.000000    213.00000      25.677267\n",
              "50%      863.000000    454.00000      47.059191\n",
              "75%     2009.000000    814.25000      71.136974\n",
              "max     4675.000000   4327.00000     100.000000"
            ]
          },
          "metadata": {
            "tags": []
          },
          "execution_count": 24
        }
      ]
    },
    {
      "cell_type": "code",
      "metadata": {
        "colab": {
          "base_uri": "https://localhost:8080/",
          "height": 298
        },
        "id": "8bf11bd0",
        "outputId": "17836bb1-2772-4af7-e4c0-fbf2c59a7a42"
      },
      "source": [
        "plt.boxplot(subset['Occupancy'])\n",
        "plt.title('Occupancy')"
      ],
      "id": "8bf11bd0",
      "execution_count": null,
      "outputs": [
        {
          "output_type": "execute_result",
          "data": {
            "text/plain": [
              "Text(0.5, 1.0, 'Occupancy')"
            ]
          },
          "metadata": {
            "tags": []
          },
          "execution_count": 25
        },
        {
          "output_type": "display_data",
          "data": {
            "image/png": "[encoded data removed]",
            "text/plain": [
              "<Figure size 432x288 with 1 Axes>"
            ]
          },
          "metadata": {
            "tags": [],
            "needs_background": "light"
          }
        }
      ]
    },
    {
      "cell_type": "code",
      "metadata": {
        "colab": {
          "base_uri": "https://localhost:8080/",
          "height": 298
        },
        "id": "015bb8f5",
        "outputId": "d7561c40-db74-4280-dcfd-10e32638f45f"
      },
      "source": [
        "plt.boxplot(subset['Capacity'])\n",
        "plt.title('Capacity')"
      ],
      "id": "015bb8f5",
      "execution_count": null,
      "outputs": [
        {
          "output_type": "execute_result",
          "data": {
            "text/plain": [
              "Text(0.5, 1.0, 'Capacity')"
            ]
          },
          "metadata": {
            "tags": []
          },
          "execution_count": 26
        },
        {
          "output_type": "display_data",
          "data": {
            "image/png": "[encoded data removed]",
            "text/plain": [
              "<Figure size 432x288 with 1 Axes>"
            ]
          },
          "metadata": {
            "tags": [],
            "needs_background": "light"
          }
        }
      ]
    },
    {
      "cell_type": "code",
      "metadata": {
        "colab": {
          "base_uri": "https://localhost:8080/",
          "height": 400
        },
        "id": "f6adacd3",
        "outputId": "9305300d-b907-46ad-e868-dd39b4c845c6"
      },
      "source": [
        "box = sns.catplot(x = \"Day\",y=\"OccupancyRate\",kind='box',data=subset)\n",
        "box.set(xlabel=\"Week Days\", ylabel = \"OccupancyRate\")"
      ],
      "id": "f6adacd3",
      "execution_count": null,
      "outputs": [
        {
          "output_type": "execute_result",
          "data": {
            "text/plain": [
              "<seaborn.axisgrid.FacetGrid at 0x7ff58a816110>"
            ]
          },
          "metadata": {
            "tags": []
          },
          "execution_count": 27
        },
        {
          "output_type": "display_data",
          "data": {
            "image/png": "[encoded data removed]",
            "text/plain": [
              "<Figure size 360x360 with 1 Axes>"
            ]
          },
          "metadata": {
            "tags": [],
            "needs_background": "light"
          }
        }
      ]
    },
    {
      "cell_type": "code",
      "metadata": {
        "colab": {
          "base_uri": "https://localhost:8080/",
          "height": 366
        },
        "id": "dbdd8220",
        "outputId": "5ad83d4a-28a9-47f9-f4ca-c2bf6fbdd3f3"
      },
      "source": [
        "graph = sns.catplot(x='Day', kind='count', data=subset)\n",
        "graph.fig.autofmt_xdate()\n",
        "graph.set(xlabel=\"Week Days\", ylabel = \"Count\")"
      ],
      "id": "dbdd8220",
      "execution_count": null,
      "outputs": [
        {
          "output_type": "execute_result",
          "data": {
            "text/plain": [
              "<seaborn.axisgrid.FacetGrid at 0x7ff58aa12790>"
            ]
          },
          "metadata": {
            "tags": []
          },
          "execution_count": 28
        },
        {
          "output_type": "display_data",
          "data": {
            "image/png": "[encoded data removed]",
            "text/plain": [
              "<Figure size 360x360 with 1 Axes>"
            ]
          },
          "metadata": {
            "tags": [],
            "needs_background": "light"
          }
        }
      ]
    },
    {
      "cell_type": "code",
      "metadata": {
        "colab": {
          "base_uri": "https://localhost:8080/",
          "height": 351
        },
        "id": "9e9fcfe5",
        "outputId": "e7e0e80b-4f2b-4b5f-fe5c-577cb705b3c9"
      },
      "source": [
        "hist = sns.catplot(x='Capacity', kind='count', data=subset, aspect=20/8.27)\n",
        "hist.fig.autofmt_xdate()\n",
        "hist.set(xlabel=\"Capacity Frequency\", ylabel = \"Count\")"
      ],
      "id": "9e9fcfe5",
      "execution_count": null,
      "outputs": [
        {
          "output_type": "execute_result",
          "data": {
            "text/plain": [
              "<seaborn.axisgrid.FacetGrid at 0x7ff5937ff3d0>"
            ]
          },
          "metadata": {
            "tags": []
          },
          "execution_count": 29
        },
        {
          "output_type": "display_data",
          "data": {
            "image/png": "[encoded data removed]",
            "text/plain": [
              "<Figure size 870.617x360 with 1 Axes>"
            ]
          },
          "metadata": {
            "tags": [],
            "needs_background": "light"
          }
        }
      ]
    },
    {
      "cell_type": "code",
      "metadata": {
        "id": "b67167ce"
      },
      "source": [
        ""
      ],
      "id": "b67167ce",
      "execution_count": null,
      "outputs": []
    }
  ]
}